{
 "cells": [
  {
   "cell_type": "code",
   "execution_count": 10,
   "metadata": {},
   "outputs": [],
   "source": [
    "import sys\n",
    "import csv\n",
    "import os.path\n",
    "import pandas as pd\n",
    "from os import listdir\n",
    "from os.path import isfile, join\n",
    "import glob\n",
    "import numpy as np\n",
    "import random\n",
    "import spotipy\n",
    "import spotipy.util as util\n",
    "import os.path\n",
    "import json\n",
    "\n",
    "all_tracks = \"/home/vimal/Downloads/data/direct_tracks.csv\"\n",
    "USER_ID = \"k9on2irv3vzqqqx4mv5sulu9w\"\n",
    "PID = \"3xzwv4WP3kfpFxMJupedMa\"\n",
    "PID_NAME = \"VIMAL_PL\"\n",
    "scope = 'playlist-modify-public'"
   ]
  },
  {
   "cell_type": "code",
   "execution_count": 11,
   "metadata": {},
   "outputs": [
    {
     "name": "stdout",
     "output_type": "stream",
     "text": [
      "tatal  2551\n",
      "initial_track  46\n"
     ]
    },
    {
     "name": "stderr",
     "output_type": "stream",
     "text": [
      "Exception ignored in: <bound method SpotifyAuthBase.__del__ of <spotipy.oauth2.SpotifyClientCredentials object at 0x7fec38947a90>>\n",
      "Traceback (most recent call last):\n",
      "  File \"/home/vimal/.local/lib/python3.6/site-packages/spotipy/oauth2.py\", line 96, in __del__\n",
      "    if isinstance(self._session, requests.Session):\n",
      "AttributeError: 'SpotifyClientCredentials' object has no attribute '_session'\n"
     ]
    },
    {
     "ename": "TypeError",
     "evalue": "__init__() got an unexpected keyword argument 'scope'",
     "output_type": "error",
     "traceback": [
      "\u001b[0;31m---------------------------------------------------------------------------\u001b[0m",
      "\u001b[0;31mTypeError\u001b[0m                                 Traceback (most recent call last)",
      "\u001b[0;32m<ipython-input-11-49d5dc511750>\u001b[0m in \u001b[0;36m<module>\u001b[0;34m\u001b[0m\n\u001b[1;32m     32\u001b[0m     \u001b[0;31m#print(counter)\u001b[0m\u001b[0;34m\u001b[0m\u001b[0;34m\u001b[0m\u001b[0;34m\u001b[0m\u001b[0m\n\u001b[1;32m     33\u001b[0m \u001b[0;34m\u001b[0m\u001b[0m\n\u001b[0;32m---> 34\u001b[0;31m \u001b[0msp\u001b[0m \u001b[0;34m=\u001b[0m \u001b[0mspotipy\u001b[0m\u001b[0;34m.\u001b[0m\u001b[0mSpotify\u001b[0m\u001b[0;34m(\u001b[0m\u001b[0mclient_credentials_manager\u001b[0m\u001b[0;34m=\u001b[0m\u001b[0mSpotifyClientCredentials\u001b[0m\u001b[0;34m(\u001b[0m\u001b[0mscope\u001b[0m\u001b[0;34m=\u001b[0m\u001b[0mscope\u001b[0m\u001b[0;34m)\u001b[0m\u001b[0;34m)\u001b[0m\u001b[0;34m\u001b[0m\u001b[0;34m\u001b[0m\u001b[0m\n\u001b[0m\u001b[1;32m     35\u001b[0m \u001b[0msp\u001b[0m\u001b[0;34m.\u001b[0m\u001b[0muser_playlist_add_tracks\u001b[0m\u001b[0;34m(\u001b[0m\u001b[0mUSER_ID\u001b[0m\u001b[0;34m,\u001b[0m\u001b[0mPID\u001b[0m\u001b[0;34m,\u001b[0m\u001b[0mchain\u001b[0m\u001b[0;34m)\u001b[0m\u001b[0;34m\u001b[0m\u001b[0;34m\u001b[0m\u001b[0m\n\u001b[1;32m     36\u001b[0m \u001b[0;32mfor\u001b[0m \u001b[0msong\u001b[0m \u001b[0;32min\u001b[0m \u001b[0mchain\u001b[0m\u001b[0;34m:\u001b[0m\u001b[0;34m\u001b[0m\u001b[0;34m\u001b[0m\u001b[0m\n",
      "\u001b[0;31mTypeError\u001b[0m: __init__() got an unexpected keyword argument 'scope'"
     ]
    }
   ],
   "source": [
    "f = open(all_tracks,'r')\n",
    "i = 0\n",
    "play_list_by_track = {}\n",
    "while True:\n",
    "    line = f.readline()\n",
    "    if not line:\n",
    "        break\n",
    "    if i != 0:\n",
    "        t = line.split(\",\")\n",
    "        #print(t[0],int(t[1].rstrip('\\n')))\n",
    "        tid = int(t[2].rstrip('\\n'))\n",
    "        sid = t[0]\n",
    "        if tid in play_list_by_track.keys():\n",
    "            play_list_by_track[tid].append(sid)\n",
    "        else:\n",
    "            play_list_by_track[tid] = [sid]\n",
    "    i = i + 1\n",
    "f.close() \n",
    "print(\"tatal \",i)\n",
    "\n",
    "chain = []\n",
    "\n",
    "initial_track = random.randint(1,100)\n",
    "print(\"initial_track \", initial_track)\n",
    "counter = initial_track\n",
    "\n",
    "while len(chain) < 11:\n",
    "    if counter in play_list_by_track.keys():\n",
    "        chain.append(np.random.choice(play_list_by_track[counter]))\n",
    "    counter += 1\n",
    "    if counter > 100: counter = 1\n",
    "    #print(counter)\n",
    "    \n",
    "token = util.prompt_for_user_token(username, scope)    \n",
    "sp.user_playlist_add_tracks(USER_ID,PID,chain)\n",
    "for song in chain:\n",
    "    print(song)\n",
    "    \n"
   ]
  },
  {
   "cell_type": "code",
   "execution_count": null,
   "metadata": {},
   "outputs": [],
   "source": []
  }
 ],
 "metadata": {
  "kernelspec": {
   "display_name": "Python 3",
   "language": "python",
   "name": "python3"
  },
  "language_info": {
   "codemirror_mode": {
    "name": "ipython",
    "version": 3
   },
   "file_extension": ".py",
   "mimetype": "text/x-python",
   "name": "python",
   "nbconvert_exporter": "python",
   "pygments_lexer": "ipython3",
   "version": "3.6.9"
  }
 },
 "nbformat": 4,
 "nbformat_minor": 4
}
