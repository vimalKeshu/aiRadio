{
 "cells": [
  {
   "cell_type": "code",
   "execution_count": 1,
   "metadata": {},
   "outputs": [],
   "source": [
    "import pandas as pd\n",
    "from os import listdir\n",
    "from os.path import isfile, join\n",
    "import glob\n",
    "import numpy as np\n",
    "import random\n",
    "\n",
    "path = '/home/common/data/tracks/*.csv'\n",
    "all_tracks = \"/home/common/data/all_tracks.csv\"\n",
    "files = glob.glob(path)\n",
    "list = []\n",
    "for filename in files:\n",
    "    dft = pd.read_csv(filename,header=0)\n",
    "    list.append(dft)\n",
    "\n",
    "#print(list[0])\n",
    "df = pd.concat(list, axis=0, ignore_index=True)[['id','track_number']]\n",
    "#print(df1)\n",
    "df.to_csv(all_tracks,index=False)"
   ]
  },
  {
   "cell_type": "code",
   "execution_count": 2,
   "metadata": {},
   "outputs": [
    {
     "name": "stdout",
     "output_type": "stream",
     "text": [
      "tatal  90420\n",
      "initial_track  14\n",
      "4N7mWRPytLQFr8rdMoM9tC\n",
      "162mLj1BZaLlb1oD11I3k6\n",
      "3hIdaN4V0SIyCFGXcvrDTy\n",
      "4uiothMaLevwg9TmPCrJ45\n",
      "4hx833jkJj9dAySymnKfiv\n",
      "5ekobRVHvm435Eipr1StAg\n",
      "343YBumqHu19cGoGARUTsd\n",
      "3ykpDVbOcaeWE64ZG39pZd\n",
      "42R43eDc3m0yrb97VWNKyG\n",
      "6nDSLDomNqfet6w0r1GHAz\n",
      "2xeKhHweJwstv9vnHwgs4D\n"
     ]
    }
   ],
   "source": [
    "f = open(all_tracks,'r')\n",
    "i = 0\n",
    "play_list_by_track = {}\n",
    "while True:\n",
    "    line = f.readline()\n",
    "    if not line:\n",
    "        break\n",
    "    if i != 0:\n",
    "        t = line.split(\",\")\n",
    "        #print(t[0],int(t[1].rstrip('\\n')))\n",
    "        tid = int(t[1].rstrip('\\n'))\n",
    "        sid = t[0]\n",
    "        if tid in play_list_by_track.keys():\n",
    "            play_list_by_track[tid].append(sid)\n",
    "        else:\n",
    "            play_list_by_track[tid] = [sid]\n",
    "    i = i + 1\n",
    "f.close() \n",
    "print(\"tatal \",i)\n",
    "\n",
    "chain = []\n",
    "\n",
    "initial_track = random.randint(1,100)\n",
    "print(\"initial_track \", initial_track)\n",
    "counter = initial_track\n",
    "\n",
    "while len(chain) < 11:\n",
    "    if counter in play_list_by_track.keys():\n",
    "        chain.append(np.random.choice(play_list_by_track[counter]))\n",
    "    counter += 1\n",
    "    if counter > 100: counter = 1\n",
    "    #print(counter)\n",
    "      \n",
    "for song in chain:\n",
    "    print(song)\n",
    "    \n"
   ]
  },
  {
   "cell_type": "code",
   "execution_count": null,
   "metadata": {},
   "outputs": [],
   "source": []
  }
 ],
 "metadata": {
  "kernelspec": {
   "display_name": "Python 3",
   "language": "python",
   "name": "python3"
  },
  "language_info": {
   "codemirror_mode": {
    "name": "ipython",
    "version": 3
   },
   "file_extension": ".py",
   "mimetype": "text/x-python",
   "name": "python",
   "nbconvert_exporter": "python",
   "pygments_lexer": "ipython3",
   "version": "3.6.9"
  }
 },
 "nbformat": 4,
 "nbformat_minor": 4
}
