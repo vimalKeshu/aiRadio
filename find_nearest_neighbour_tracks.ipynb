{
 "cells": [
  {
   "cell_type": "code",
   "execution_count": 38,
   "metadata": {
    "scrolled": true
   },
   "outputs": [
    {
     "name": "stdout",
     "output_type": "stream",
     "text": [
      "Liked songs centroid  440.445\n"
     ]
    }
   ],
   "source": [
    "import os\n",
    "import requests\n",
    "import pandas as pd\n",
    "\n",
    "# constant \n",
    "ALL_NON_LIKED_AUDIO_FEATURES_FILE_PATH='/home/common/data/audio_feature/all_non_liked_songs_audio_features.csv'\n",
    "LIKED_AUDIO_FEATURES_FILE_PATH='/home/common/data/audio_feature/liked_songs_audio_features.csv'\n",
    "\n",
    "# read the liked audio files and find the mean for each column\n",
    "df1 = pd.read_csv(LIKED_AUDIO_FEATURES_FILE_PATH,header=0)\n",
    "cp = df1.danceability.mean()*100 \\\n",
    "+ df1.energy.mean()*100 \\\n",
    "+ df1.key.mean() \\\n",
    "+ df1.loudness.mean() \\\n",
    "+ df1.speechiness.mean()*100 \\\n",
    "+ df1.acousticness.mean()*100 \\\n",
    "+ df1.instrumentalness.mean()*100 \\\n",
    "+ df1.liveness.mean()*100 \\\n",
    "+ df1.valence.mean()*100 \\\n",
    "+ df1.tempo.mean() \\\n",
    "+ df1.time_signature.mean() \\\n",
    "+ df1[\"mode\"].mean()*100\n",
    "\n",
    "print(\"Liked songs centroid \", round(cp,3))"
   ]
  },
  {
   "cell_type": "code",
   "execution_count": 92,
   "metadata": {},
   "outputs": [
    {
     "name": "stderr",
     "output_type": "stream",
     "text": [
      "/usr/local/lib/python3.6/dist-packages/ipykernel_launcher.py:8: SettingWithCopyWarning: \n",
      "A value is trying to be set on a copy of a slice from a DataFrame.\n",
      "Try using .loc[row_indexer,col_indexer] = value instead\n",
      "\n",
      "See the caveats in the documentation: https://pandas.pydata.org/pandas-docs/stable/user_guide/indexing.html#returning-a-view-versus-a-copy\n",
      "  \n",
      "/usr/local/lib/python3.6/dist-packages/ipykernel_launcher.py:20: SettingWithCopyWarning: \n",
      "A value is trying to be set on a copy of a slice from a DataFrame.\n",
      "Try using .loc[row_indexer,col_indexer] = value instead\n",
      "\n",
      "See the caveats in the documentation: https://pandas.pydata.org/pandas-docs/stable/user_guide/indexing.html#returning-a-view-versus-a-copy\n",
      "/usr/local/lib/python3.6/dist-packages/ipykernel_launcher.py:23: SettingWithCopyWarning: \n",
      "A value is trying to be set on a copy of a slice from a DataFrame.\n",
      "Try using .loc[row_indexer,col_indexer] = value instead\n",
      "\n",
      "See the caveats in the documentation: https://pandas.pydata.org/pandas-docs/stable/user_guide/indexing.html#returning-a-view-versus-a-copy\n"
     ]
    }
   ],
   "source": [
    "import math\n",
    "\n",
    "cols = ['id','danceability','energy', 'key', 'loudness', 'speechiness', 'acousticness', 'instrumentalness',\n",
    "        'liveness','valence', 'tempo', 'time_signature', 'mode']\n",
    "df = pd.read_csv(ALL_NON_LIKED_AUDIO_FEATURES_FILE_PATH,header=0)[cols]\n",
    "df2 = df[df.id.notnull()]\n",
    "\n",
    "df2['centroid'] = round(cp,3)\n",
    "df2[\"location\"] = round((df2['danceability']*100 \\\n",
    "+ df2['energy']*100 \\\n",
    "+ df2['key'] \\\n",
    "+ df2['loudness'] \\\n",
    "+ df2['speechiness']*100 \\\n",
    "+ df2['acousticness']*100 \\\n",
    "+ df2['instrumentalness']*100 \\\n",
    "+ df2['liveness']*100 \\\n",
    "+ df2['valence']*100 \\\n",
    "+ df2['tempo'] \\\n",
    "+ df2['time_signature'] \\\n",
    "+ df2[\"mode\"]*100),3)\n",
    "\n",
    "\n",
    "df2['distance'] = round(abs(df2['centroid']-df2['location']),3)\n",
    "df3 = df2[df2.distance < 10.000]\n",
    "df3.to_csv('/home/common/data/nearest_songs.csv')\n",
    "\n",
    "df4 = df2[df2.distance >= 10.000]\n",
    "df4.to_csv('/home/common/data/distant_songs.csv')"
   ]
  },
  {
   "cell_type": "code",
   "execution_count": null,
   "metadata": {},
   "outputs": [],
   "source": []
  }
 ],
 "metadata": {
  "kernelspec": {
   "display_name": "Python 3",
   "language": "python",
   "name": "python3"
  },
  "language_info": {
   "codemirror_mode": {
    "name": "ipython",
    "version": 3
   },
   "file_extension": ".py",
   "mimetype": "text/x-python",
   "name": "python",
   "nbconvert_exporter": "python",
   "pygments_lexer": "ipython3",
   "version": "3.6.9"
  }
 },
 "nbformat": 4,
 "nbformat_minor": 4
}
