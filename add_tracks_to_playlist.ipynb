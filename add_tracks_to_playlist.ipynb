{
 "cells": [
  {
   "cell_type": "code",
   "execution_count": null,
   "metadata": {},
   "outputs": [],
   "source": [
    "import requests\n",
    "import os\n",
    "import csv\n",
    "\n",
    "# constant\n",
    "MY_SONG_PLAYLIST_ID='3xzwv4WP3kfpFxMJupedMa'\n",
    "TRACKS_FILE_PATH='/home/common/data/final_nearest_songs.csv'\n",
    "\n",
    "# spotify end points \n",
    "add_track_to_playlist = \"https://api.spotify.com/v1/playlists/{playlist_id}/tracks\"\n",
    "\n",
    "# get the access token from environment\n",
    "access_token = \"Bearer \" + (os.environ['SPOTIFY_TOKEN'])\n",
    "print(os.environ['SPOTIFY_TOKEN'])\n",
    "#print(get_playlist_tracks_url.format(playlist_id=MY_SONG_PLAYLIST_ID))\n",
    "\n",
    "def add_tracks_to_playlist(tlist):\n",
    "    t = \",\".join(tracks)\n",
    "    print(t)\n",
    "    print(add_track_to_playlist.format(playlist_id=MY_SONG_PLAYLIST_ID))\n",
    "    r = requests.post(url=add_track_to_playlist.format(playlist_id=MY_SONG_PLAYLIST_ID),\n",
    "           params={\"uris\":t},\n",
    "           headers={\"Content-Type\": \"application/json\",\"Accept\": \"application/json\",\"Authorization\": access_token}) \n",
    "    print(r.status_code)\n",
    "    \n",
    "tracks=[]\n",
    "line_count = 0\n",
    "with open(TRACKS_FILE_PATH) as csv_file:\n",
    "    csv_reader = csv.reader(csv_file, delimiter=',')\n",
    "    for row in csv_reader:\n",
    "        if line_count == 0:\n",
    "            #print(f'Column names are {\", \".join(row)}')\n",
    "            line_count += 1\n",
    "        else:\n",
    "            if line_count % 50 == 0:\n",
    "                add_tracks_to_playlist(tracks)\n",
    "                tracks.clear()\n",
    "            else:\n",
    "                item = 'spotify:track:' + row[1].strip()\n",
    "                tracks.append(item)\n",
    "                #print(item)\n",
    "            line_count += 1\n",
    "    print(f'Processed {line_count} lines.')\n",
    "add_tracks_to_playlist(tracks)"
   ]
  },
  {
   "cell_type": "code",
   "execution_count": null,
   "metadata": {},
   "outputs": [],
   "source": []
  }
 ],
 "metadata": {
  "kernelspec": {
   "display_name": "Python 3",
   "language": "python",
   "name": "python3"
  },
  "language_info": {
   "codemirror_mode": {
    "name": "ipython",
    "version": 3
   },
   "file_extension": ".py",
   "mimetype": "text/x-python",
   "name": "python",
   "nbconvert_exporter": "python",
   "pygments_lexer": "ipython3",
   "version": "3.6.9"
  }
 },
 "nbformat": 4,
 "nbformat_minor": 4
}
