{
 "cells": [
  {
   "cell_type": "code",
   "execution_count": 1,
   "metadata": {},
   "outputs": [],
   "source": [
    "import sys\n",
    "import csv\n",
    "import os.path\n",
    "import pandas as pd\n",
    "from os import listdir\n",
    "from os.path import isfile, join\n",
    "import glob\n",
    "import numpy as np\n",
    "import random\n",
    "\n",
    "path = '/home/vimal/Downloads/data/tracks/*.csv'\n",
    "all_tracks = \"/home/vimal/Downloads/data/all_tracks.csv\"\n",
    "files = glob.glob(path)\n",
    "USER_ID = \"k9on2irv3vzqqqx4mv5sulu9w\"\n",
    "PID = \"3xzwv4WP3kfpFxMJupedMa\"\n",
    "PID_NAME = \"VIMAL_PL\"\n",
    "list = []\n",
    "for filename in files:\n",
    "    dft = pd.read_csv(filename,header=0)\n",
    "    list.append(dft)\n",
    "\n",
    "#print(list[0])\n",
    "df = pd.concat(list, axis=0, ignore_index=True)[['id','track_number']]\n",
    "#print(df1)\n",
    "df.to_csv(all_tracks,index=False)"
   ]
  },
  {
   "cell_type": "code",
   "execution_count": 3,
   "metadata": {},
   "outputs": [
    {
     "name": "stdout",
     "output_type": "stream",
     "text": [
      "tatal  87870\n",
      "initial_track  64\n",
      "0IUFjvwlh18TWiTi6kO5pP\n",
      "5suJZTE8SpSmR4zMqxLg3V\n",
      "01Wa4j833Y5LExFsFE5nfF\n",
      "33bKhjZwtqmOfIgWYbiSuO\n",
      "5CuQUbas6KGKtHCZfNG7wY\n",
      "4Llc9Qm1Oag9Pl5TTF1jnq\n",
      "0X2IqXRelEA6nYthvvJaqA\n",
      "2YRqnGoPNo7syPt92r3SvE\n",
      "499rUzivR5kdiNAXSQJJIu\n",
      "4sFWtUJHt1PxHpjOCovWmp\n",
      "4lEMaKJGOLL1f0QdJMTUza\n"
     ]
    }
   ],
   "source": [
    "f = open(all_tracks,'r')\n",
    "i = 0\n",
    "play_list_by_track = {}\n",
    "while True:\n",
    "    line = f.readline()\n",
    "    if not line:\n",
    "        break\n",
    "    if i != 0:\n",
    "        t = line.split(\",\")\n",
    "        #print(t[0],int(t[1].rstrip('\\n')))\n",
    "        tid = int(t[1].rstrip('\\n'))\n",
    "        sid = t[0]\n",
    "        if tid in play_list_by_track.keys():\n",
    "            play_list_by_track[tid].append(sid)\n",
    "        else:\n",
    "            play_list_by_track[tid] = [sid]\n",
    "    i = i + 1\n",
    "f.close() \n",
    "print(\"tatal \",i)\n",
    "\n",
    "chain = []\n",
    "\n",
    "initial_track = random.randint(1,100)\n",
    "print(\"initial_track \", initial_track)\n",
    "counter = initial_track\n",
    "\n",
    "while len(chain) < 11:\n",
    "    if counter in play_list_by_track.keys():\n",
    "        chain.append(np.random.choice(play_list_by_track[counter]))\n",
    "    counter += 1\n",
    "    if counter > 100: counter = 1\n",
    "    #print(counter)\n",
    "      \n",
    "for song in chain:\n",
    "    print(song)\n",
    "    \n"
   ]
  },
  {
   "cell_type": "code",
   "execution_count": null,
   "metadata": {},
   "outputs": [],
   "source": []
  }
 ],
 "metadata": {
  "kernelspec": {
   "display_name": "Python 3",
   "language": "python",
   "name": "python3"
  },
  "language_info": {
   "codemirror_mode": {
    "name": "ipython",
    "version": 3
   },
   "file_extension": ".py",
   "mimetype": "text/x-python",
   "name": "python",
   "nbconvert_exporter": "python",
   "pygments_lexer": "ipython3",
   "version": "3.6.9"
  }
 },
 "nbformat": 4,
 "nbformat_minor": 4
}
