{
 "cells": [
  {
   "cell_type": "code",
   "execution_count": 25,
   "metadata": {
    "scrolled": true
   },
   "outputs": [
    {
     "name": "stdout",
     "output_type": "stream",
     "text": [
      "Written lines total  501\n",
      "Written lines total  1051\n",
      "Written lines total  1601\n",
      "Written lines total  2151\n",
      "final Written lines total  2551\n",
      "\n"
     ]
    }
   ],
   "source": [
    "import sys\n",
    "import csv\n",
    "import spotipy\n",
    "import spotipy.util as util\n",
    "import os.path\n",
    "import json\n",
    "from spotipy.oauth2 import SpotifyClientCredentials\n",
    "\n",
    "scope = 'user-library-read'\n",
    "# You can get credentials from https://developer.spotify.com/dashboard/applications\n",
    "#  SET SPOTIPY_CLIENT_ID and SPOTIPY_CLIENT_SECRET environment variable\n",
    "\n",
    "csv.field_size_limit(1000000) # for really long playlists!\n",
    "lines = [\"id,track_number,popularity\"+\"\\n\"]\n",
    "def write_to_file(lines):\n",
    "    f = open('/home/vimal/Downloads/data/direct_tracks.csv','a+',encoding='utf-8')\n",
    "    for line in lines:\n",
    "        f.write(line)\n",
    "    f.close()\n",
    "def get_tracks():\n",
    "    i=0\n",
    "    playlists_ = {}\n",
    "    sp = spotipy.Spotify(client_credentials_manager=SpotifyClientCredentials())\n",
    "    \n",
    "    for search in range(ord('A'),ord('z')): #A to Z\n",
    "        try:\n",
    "            tracks = sp.search(chr(search), limit=50, offset=0, type='track', market='US')\n",
    "        except spotipy.client.SpotifyException:\n",
    "            sp = spotipy.Spotify(client_credentials_manager=SpotifyClientCredentials())\n",
    "            tracks = sp.search(chr(search), limit=50, offset=0, type='track', market='US')\n",
    "        for j, album in enumerate(tracks['tracks']['items']):\n",
    "            lines.append(str(album['id'])+\",\"+str(album['track_number'])+\",\"+str(album['popularity'])+\"\\n\")\n",
    "        if len(lines) > 500:\n",
    "            write_to_file(lines)\n",
    "            i = i + len(lines)\n",
    "            lines.clear()\n",
    "            print(\"Written lines total \",i)\n",
    "    write_to_file(lines)\n",
    "    i +=len(lines)\n",
    "    lines.clear()\n",
    "    print(\"final Written lines total \",i)            \n",
    "    print()\n",
    "\n",
    "# main\n",
    "get_tracks()"
   ]
  },
  {
   "cell_type": "code",
   "execution_count": null,
   "metadata": {},
   "outputs": [],
   "source": []
  }
 ],
 "metadata": {
  "kernelspec": {
   "display_name": "Python 3",
   "language": "python",
   "name": "python3"
  },
  "language_info": {
   "codemirror_mode": {
    "name": "ipython",
    "version": 3
   },
   "file_extension": ".py",
   "mimetype": "text/x-python",
   "name": "python",
   "nbconvert_exporter": "python",
   "pygments_lexer": "ipython3",
   "version": "3.6.9"
  }
 },
 "nbformat": 4,
 "nbformat_minor": 4
}
