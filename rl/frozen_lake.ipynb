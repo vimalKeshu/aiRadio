{
 "cells": [
  {
   "cell_type": "code",
   "execution_count": 1,
   "metadata": {},
   "outputs": [],
   "source": [
    "import numpy as np\n",
    "import gym\n",
    "import random\n",
    "import time\n",
    "from IPython.display import clear_output"
   ]
  },
  {
   "cell_type": "code",
   "execution_count": 2,
   "metadata": {},
   "outputs": [
    {
     "name": "stdout",
     "output_type": "stream",
     "text": [
      "[[0. 0. 0. 0.]\n",
      " [0. 0. 0. 0.]\n",
      " [0. 0. 0. 0.]\n",
      " [0. 0. 0. 0.]\n",
      " [0. 0. 0. 0.]\n",
      " [0. 0. 0. 0.]\n",
      " [0. 0. 0. 0.]\n",
      " [0. 0. 0. 0.]\n",
      " [0. 0. 0. 0.]\n",
      " [0. 0. 0. 0.]\n",
      " [0. 0. 0. 0.]\n",
      " [0. 0. 0. 0.]\n",
      " [0. 0. 0. 0.]\n",
      " [0. 0. 0. 0.]\n",
      " [0. 0. 0. 0.]\n",
      " [0. 0. 0. 0.]]\n"
     ]
    }
   ],
   "source": [
    "env = gym.make(\"FrozenLake-v0\")\n",
    "action_space_size = env.action_space.n\n",
    "state_space_size = env.observation_space.n\n",
    "q_table = np.zeros((state_space_size, action_space_size))\n",
    "print(q_table)"
   ]
  },
  {
   "cell_type": "code",
   "execution_count": 3,
   "metadata": {},
   "outputs": [],
   "source": [
    "num_episodes = 10000\n",
    "max_step_per_episode = 100\n",
    "\n",
    "learning_rate = 0.1\n",
    "discount_rate = 0.99\n",
    "\n",
    "exploration_rate = 1\n",
    "max_exploration_rate = 1\n",
    "min_exploration_rate = 0.01\n",
    "exploration_decay_rate = 0.001"
   ]
  },
  {
   "cell_type": "code",
   "execution_count": 5,
   "metadata": {},
   "outputs": [],
   "source": [
    "rewards_from_all_episodes = []\n",
    "for episode in range(num_episodes):\n",
    "    state = env.reset()\n",
    "    \n",
    "    done = False\n",
    "    reward_from_current_episode = 0\n",
    "    \n",
    "    for step in range(max_step_per_episode):\n",
    "        \n",
    "        exploration_rate_threshold = random.uniform(0,1)\n",
    "        if exploration_rate_threshold > exploration_rate:\n",
    "            action = np.argmax(q_table[state,:])\n",
    "        else:\n",
    "            action = env.action_space.sample()\n",
    "        \n",
    "        new_state, reward, done, info = env.step(action)\n",
    "        \n",
    "        # update q table for (s,a)\n",
    "        q_table[state,action] = ((1 - learning_rate) * (q_table[state,action])) + \\\n",
    "                                (learning_rate * (reward + (discount_rate * np.argmax(q_table[new_state,:]))))\n",
    "        \n",
    "        state = new_state\n",
    "        reward_from_current_episode += reward\n",
    "        \n",
    "        if done == True:\n",
    "            break\n",
    "        \n",
    "    exploration_rate = min_exploration_rate + \\\n",
    "        ((max_exploration_rate - min_exploration_rate) * np.exp(-exploration_decay_rate * episode))\n",
    "    rewards_from_all_episodes.append(reward_from_current_episode)"
   ]
  },
  {
   "cell_type": "code",
   "execution_count": 9,
   "metadata": {},
   "outputs": [
    {
     "name": "stdout",
     "output_type": "stream",
     "text": [
      "Average rewards per thousand episodes: \n",
      "1000 : 0.02100000000000001\n",
      "2000 : 0.024000000000000014\n",
      "3000 : 0.022000000000000013\n",
      "4000 : 0.013000000000000005\n",
      "5000 : 0.008\n",
      "6000 : 0.002\n",
      "7000 : 0.0\n",
      "8000 : 0.001\n",
      "9000 : 0.001\n",
      "10000 : 0.001\n",
      "\n",
      "\n",
      " Q-table\n",
      "[[2.70945851 2.70327649 2.61528386 2.8809    ]\n",
      " [1.9623458  1.97580197 2.13260037 2.15043288]\n",
      " [2.97       2.772      2.97       2.97      ]\n",
      " [2.38574602 2.36028646 1.83598884 2.25841436]\n",
      " [0.77792605 1.07510345 2.1421188  1.40674774]\n",
      " [0.         0.         0.         0.        ]\n",
      " [0.26198731 0.16943712 0.27541937 0.8310129 ]\n",
      " [0.         0.         0.         0.        ]\n",
      " [0.41808866 0.32982702 0.4994441  1.78860975]\n",
      " [1.03503057 0.33110325 0.33294147 0.29917828]\n",
      " [1.92327027 0.54065354 0.69115055 0.42363592]\n",
      " [0.         0.         0.         0.        ]\n",
      " [0.         0.         0.         0.        ]\n",
      " [0.46884541 0.58859655 1.3391358  0.55078488]\n",
      " [1.01203609 1.30271828 0.65349584 1.07300662]\n",
      " [0.         0.         0.         0.        ]]\n"
     ]
    }
   ],
   "source": [
    "rewards_per_thousand_episodes = np.split(np.array(rewards_from_all_episodes), num_episodes/1000)\n",
    "count = 1000\n",
    "print(\"Average rewards per thousand episodes: \")\n",
    "for r in rewards_per_thousand_episodes:\n",
    "    print(count,':',str(sum(r/1000)))\n",
    "    count +=1000\n",
    "print(\"\\n\\n Q-table\")\n",
    "print(q_table)"
   ]
  },
  {
   "cell_type": "code",
   "execution_count": null,
   "metadata": {},
   "outputs": [],
   "source": []
  }
 ],
 "metadata": {
  "kernelspec": {
   "display_name": "Python 3",
   "language": "python",
   "name": "python3"
  },
  "language_info": {
   "codemirror_mode": {
    "name": "ipython",
    "version": 3
   },
   "file_extension": ".py",
   "mimetype": "text/x-python",
   "name": "python",
   "nbconvert_exporter": "python",
   "pygments_lexer": "ipython3",
   "version": "3.6.9"
  }
 },
 "nbformat": 4,
 "nbformat_minor": 4
}
