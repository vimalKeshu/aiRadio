{
 "cells": [
  {
   "cell_type": "code",
   "execution_count": null,
   "metadata": {},
   "outputs": [],
   "source": [
    "import json\n",
    "import requests\n",
    "import pandas as pd\n",
    "import os\n",
    "\n",
    "# constant\n",
    "MY_SONG_PLAYLIST_ID='4mIhBGKiWY4keoR065OGuy'\n",
    "AUDIO_FEATURES_OUTPUT_FILE_PATH='/home/common/data/audio_feature/liked_songs_audio_features.csv'\n",
    "\n",
    "# spotify end points \n",
    "get_playlist_tracks_url = \"https://api.spotify.com/v1/playlists/{playlist_id}/tracks\"\n",
    "get_audio_analysis_url = \"https://api.spotify.com/v1/audio-features\"\n",
    "\n",
    "# get the access token from environment\n",
    "access_token = \"Bearer \" + (os.environ['SPOTIFY_TOKEN'])\n",
    "\n",
    "#print(get_playlist_tracks_url.format(playlist_id=MY_SONG_PLAYLIST_ID))\n",
    "\n",
    "# read the tracks id from ${MY_SONG_PLAYLIST_ID} play list\n",
    "r = requests.get(url=get_playlist_tracks_url.format(playlist_id=MY_SONG_PLAYLIST_ID),\n",
    "               params={\"fields\":\"items(track(id))\"},\n",
    "               headers={\"Content-Type\": \"application/json\",\"Accept\": \"application/json\",\"Authorization\": access_token})\n",
    "tracks=[]\n",
    "data = r.json()\n",
    "#print(data)\n",
    "for i in data['items']:\n",
    "    tracks.append(i['track']['id'])\n",
    "\n",
    "t = \",\".join(tracks)\n",
    "r = requests.get(url=get_audio_analysis_url,\n",
    "               params={\"ids\":t},\n",
    "               headers={\"Content-Type\": \"application/json\",\"Accept\": \"application/json\",\"Authorization\": access_token})\n",
    "data = r.json()\n",
    "df = pd.DataFrame(data['audio_features'])\n",
    "df.to_csv(AUDIO_FEATURES_OUTPUT_FILE_PATH)"
   ]
  },
  {
   "cell_type": "code",
   "execution_count": null,
   "metadata": {},
   "outputs": [],
   "source": []
  }
 ],
 "metadata": {
  "kernelspec": {
   "display_name": "Python 3",
   "language": "python",
   "name": "python3"
  },
  "language_info": {
   "codemirror_mode": {
    "name": "ipython",
    "version": 3
   },
   "file_extension": ".py",
   "mimetype": "text/x-python",
   "name": "python",
   "nbconvert_exporter": "python",
   "pygments_lexer": "ipython3",
   "version": "3.6.9"
  }
 },
 "nbformat": 4,
 "nbformat_minor": 4
}
