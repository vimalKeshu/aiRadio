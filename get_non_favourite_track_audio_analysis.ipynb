{
 "cells": [
  {
   "cell_type": "code",
   "execution_count": null,
   "metadata": {},
   "outputs": [],
   "source": [
    "import json\n",
    "import requests\n",
    "import pandas as pd\n",
    "import os\n",
    "import sys\n",
    "import csv\n",
    "import os.path\n",
    "import pandas as pd\n",
    "from os import listdir\n",
    "from os.path import isfile, join\n",
    "import glob\n",
    "import numpy as np\n",
    "import random\n",
    "\n",
    "# constant\n",
    "AUDIO_FEATURES_OUTPUT_FILE_PATH='/home/common/data/audio_feature/non_liked_songs_audio_features_{fid}.csv'\n",
    "TRACKS_DATA_PATH = '/home/common/data/tracks/*.csv'\n",
    "\n",
    "# spotify end points \n",
    "get_audio_analysis_url = \"https://api.spotify.com/v1/audio-features\"\n",
    "\n",
    "# get the access token from environment\n",
    "access_token = \"Bearer \" + (os.environ['SPOTIFY_TOKEN'])"
   ]
  },
  {
   "cell_type": "code",
   "execution_count": null,
   "metadata": {},
   "outputs": [],
   "source": [
    "# Read the unique tracks\n",
    "files = glob.glob(TRACKS_DATA_PATH)\n",
    "list = []\n",
    "for filename in files:\n",
    "    dft = pd.read_csv(filename,header=0)\n",
    "    list.append(dft)\n",
    "df = (pd.concat(list, axis=0, ignore_index=True)[['id']]).id.unique()\n",
    "tracks = df.tolist()\n",
    "print(\"Total tracks \",len(tracks))"
   ]
  },
  {
   "cell_type": "code",
   "execution_count": null,
   "metadata": {},
   "outputs": [],
   "source": [
    "def write_audio_features(tlist,cnt):\n",
    "    t = \",\".join(tlist)\n",
    "    print(t)\n",
    "    r = requests.get(url=get_audio_analysis_url,\n",
    "           params={\"ids\":t},\n",
    "           headers={\"Content-Type\": \"application/json\",\"Accept\": \"application/json\",\"Authorization\": access_token})\n",
    "    print(r.status_code)\n",
    "    data = r.json()\n",
    "    df = pd.DataFrame(data['audio_features'])\n",
    "    file_path = AUDIO_FEATURES_OUTPUT_FILE_PATH.format(fid=cnt)\n",
    "    print(file_path)\n",
    "    df.to_csv(file_path)\n",
    "\n",
    "ids_list=[]\n",
    "cnt=1\n",
    "for i in range(len(tracks)):\n",
    "    if i % 100 == 0:\n",
    "        write_audio_features(ids_list,cnt)\n",
    "        ids_list.clear()\n",
    "        cnt=cnt+1\n",
    "        print(\"Written the data ...\")\n",
    "    else:\n",
    "        ids_list.append(tracks[i].strip())\n",
    "write_audio_features(ids_list,cnt)"
   ]
  },
  {
   "cell_type": "code",
   "execution_count": null,
   "metadata": {},
   "outputs": [],
   "source": [
    "GLOB_ALL_AUDIO_FEATURES_OUTPUT_FILE_PATH='/home/common/data/audio_feature/non_liked_songs_audio_features_*.csv'\n",
    "ALL_AUDIO_FEATURES_OUTPUT_FILE_PATH='/home/common/data/audio_feature/all_non_liked_songs_audio_features.csv'\n",
    "files = glob.glob(GLOB_ALL_AUDIO_FEATURES_OUTPUT_FILE_PATH)\n",
    "list = []\n",
    "for filename in files:\n",
    "    print(filename)\n",
    "    dft = pd.read_csv(filename,header=0)\n",
    "    list.append(dft)\n",
    "df = pd.concat(list, axis=0, ignore_index=True).drop(['Unnamed: 0'],axis = 1)\n",
    "df.to_csv(ALL_AUDIO_FEATURES_OUTPUT_FILE_PATH)"
   ]
  },
  {
   "cell_type": "code",
   "execution_count": null,
   "metadata": {},
   "outputs": [],
   "source": []
  }
 ],
 "metadata": {
  "kernelspec": {
   "display_name": "Python 3",
   "language": "python",
   "name": "python3"
  },
  "language_info": {
   "codemirror_mode": {
    "name": "ipython",
    "version": 3
   },
   "file_extension": ".py",
   "mimetype": "text/x-python",
   "name": "python",
   "nbconvert_exporter": "python",
   "pygments_lexer": "ipython3",
   "version": "3.6.9"
  }
 },
 "nbformat": 4,
 "nbformat_minor": 4
}
