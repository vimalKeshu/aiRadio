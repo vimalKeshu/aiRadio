{
 "cells": [
  {
   "cell_type": "code",
   "execution_count": null,
   "metadata": {
    "scrolled": true
   },
   "outputs": [],
   "source": [
    "import sys\n",
    "import csv\n",
    "import spotipy\n",
    "import spotipy.util as util\n",
    "import os.path\n",
    "import json\n",
    "from spotipy.oauth2 import SpotifyClientCredentials\n",
    "\n",
    "scope = 'user-library-read'\n",
    "# You can get credentials from https://developer.spotify.com/dashboard/applications\n",
    "#  SET SPOTIPY_CLIENT_ID and SPOTIPY_CLIENT_SECRET environment variable\n",
    "\n",
    "csv.field_size_limit(1000000) # for really long playlists!\n",
    "\n",
    "def get_playlists():\n",
    "    playlists_ = {}\n",
    "    sp = spotipy.Spotify(client_credentials_manager=SpotifyClientCredentials())\n",
    "    i=0\n",
    "    for search in range(ord('A'),ord('z')): #A to Z\n",
    "        try:\n",
    "            playlists = sp.search('A', 10, 0, 'playlist')\n",
    "        except spotipy.client.SpotifyException:\n",
    "            sp = spotipy.Spotify(client_credentials_manager=SpotifyClientCredentials())\n",
    "            playlists = sp.search(chr(search), 50, 0, 'playlist')\n",
    "        while playlists:\n",
    "            with open('/home/vimal/Downloads/data/playlists.csv','a+',encoding='utf-8') as f:\n",
    "                for playlist in playlists['playlists']['items']:\n",
    "                    #print(playlist['id'],playlist['name'])\n",
    "                    line = playlist['id'] + \"\\n\"\n",
    "                    f.write(line)\n",
    "    print()\n",
    "\n",
    "# main\n",
    "get_playlists()\n",
    "#tracks = get_tracks_from_playlists(playlists)\n",
    "#print('TOTAL :', len(playlists), 'playlists', len(tracks), 'tracks')"
   ]
  },
  {
   "cell_type": "code",
   "execution_count": null,
   "metadata": {},
   "outputs": [],
   "source": []
  }
 ],
 "metadata": {
  "kernelspec": {
   "display_name": "Python 3",
   "language": "python",
   "name": "python3"
  },
  "language_info": {
   "codemirror_mode": {
    "name": "ipython",
    "version": 3
   },
   "file_extension": ".py",
   "mimetype": "text/x-python",
   "name": "python",
   "nbconvert_exporter": "python",
   "pygments_lexer": "ipython3",
   "version": "3.6.9"
  }
 },
 "nbformat": 4,
 "nbformat_minor": 4
}
